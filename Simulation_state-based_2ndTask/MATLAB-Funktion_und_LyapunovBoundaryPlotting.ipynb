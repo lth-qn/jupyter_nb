{
 "cells": [
  {
   "cell_type": "code",
   "execution_count": null,
   "metadata": {},
   "outputs": [],
   "source": [
    "# intervalltransformation\n",
    "import numpy as np\n",
    "def transQ(Q_in, a,b):\n",
    "    #check array\n",
    "    if not isinstance(Q_in, array):\n",
    "        print \"array input expected\"\n",
    "    # m,n    \n",
    "    m = np.amax(Q_in.shape)\n",
    "    n = (Q_in(0)).shape[0]\n",
    "    #Q_out = np.zeros((Q_in.shape))\n",
    "    for i1 in range (0,m-1): \n",
    "        Q_out[i1,:] = Q_in[i1,:]\n",
    "        for i2 in range (i1+1, m-1):\n",
    "            Q_out[i1,:] = Q_out[i1,] + b^(i2-i1)*nchoosek(i2,i1)*Q_in[i2,:];\n",
    "        Q_out[i1,] = a^i1*Q_out[i1,]\n",
    "    # nested loop\n",
    "    return Q_out"
   ]
  },
  {
   "cell_type": "code",
   "execution_count": null,
   "metadata": {},
   "outputs": [],
   "source": [
    "# intervalltransformation\n",
    "import numpy as np\n",
    "def calcQsum(Q_in):\n",
    "    if not isinstance(Q_in, array):\n",
    "        print \"array input expected\"\n",
    "    m = np.amax(Q_in.shape)\n",
    "    n = (Q_in(0)).shape[0]\n",
    "    if m == 1:\n",
    "        Q_sum = np.matrix([[2*Q_in[0,:], np.zeros((n,n))], \n",
    "                          [np.zeros((n,n)), np.zeros((n,n))]])\n",
    "    elif m == 2:\n",
    "        Q_sum = np.matrix([[2*Q_in[0,:], Q_in[1,:]],\n",
    "                           [Q_in[1,:], np.zeros((n,n))]])\n",
    "    else:\n",
    "        Q_sum = np.matrix([[2*Q_in[0,:], Q_in[1,:]], \n",
    "                           [Q_in[1,:], 2*Q_in[2,:]]])\n",
    "        \n",
    "    loopRange = np.arange(4,m,2)\n",
    "    for i1 in loopRange:\n",
    "        if i1 != m:\n",
    "            Q_sum = np.matrix[[Q_sum, [np.zeros(((i1/2-1)*n,n)), Q_in[i1,:]]], \n",
    "            np.zeros(n,(i1/2-1)*n), \n",
    "            Q_in[i1-1,:], \n",
    "            2*Q_in[i1,:]];\n",
    "        else:\n",
    "            Q_sum = np.matrix[[Q_sum, [np.zeros(((i1/2-1)*n,n)), Q_in[i1,:]]], \n",
    "            np.zeros(n,(i1/2-1)*n), \n",
    "            Q_in[i1-1,:], \n",
    "            np.zeros((n,n))];\n",
    "    Q_sum = 1/2*Q_sum;\n",
    "    return Q_sum"
   ]
  },
  {
   "cell_type": "code",
   "execution_count": 23,
   "metadata": {},
   "outputs": [],
   "source": [
    "# plotting Boundary with given p\n",
    "# g(p,x) = e(p).x^T.R.x-1\n",
    "import numpy as np\n",
    "from numpy.linalg import inv\n",
    "import matplotlib.pyplot as plt\n",
    "def boundaryPlotting_LyapunovFunction(p):\n",
    "    R1 = np.matrix([[4, 1],[1, 2]])\n",
    "    print \"R1: \",R1\n",
    "    a_head = np.matrix([[2],[2]])\n",
    "    print \"a_head: \",a_head\n",
    "    a = np.matrix([[0],[0]])\n",
    "    print \"a: \",a\n",
    "    n = np.size(a_head,0)\n",
    "    print \"n: \",n\n",
    "    p_array = np.zeros(n)\n",
    "    for i in range(0, n) :\n",
    "        p_array[i] = np.power(p, n-i)\n",
    "    D_p = np.diag(p_array)\n",
    "    print \"D_p: \",D_p\n",
    "    K_p = inv(D_p).dot(a_head) - a\n",
    "    print \"K_p: \",K_p\n",
    "    R_p = inv(D_p).dot(R1).dot(inv(D_p))\n",
    "    print \"R_p: \",R_p\n",
    "    e_p = np.transpose(K_p).dot(inv(R_p)).dot(K_p)\n",
    "    print \"e_p: \",e_p\n",
    "    for x1 in np.arange(-0.5,0.5,0.004):\n",
    "        for x2 in np.arange(-0.5,0.5,0.001):\n",
    "            X = np.matrix([[x1],[x2]])            \n",
    "            #print X.T\n",
    "            g_px = np.asscalar(e_p)*(X.T).dot(R_p).dot(X)-1\n",
    "            # print g_px\n",
    "            if (abs(g_px) <= 0.01):\n",
    "                plt.plot(x1, x2, 'ro',label='closed')\n",
    "    plt.show()"
   ]
  },
  {
   "cell_type": "code",
   "execution_count": 24,
   "metadata": {},
   "outputs": [
    {
     "name": "stdout",
     "output_type": "stream",
     "text": [
      "R1:  [[4 1]\n",
      " [1 2]]\n",
      "a_head:  [[2]\n",
      " [2]]\n",
      "a:  [[0]\n",
      " [0]]\n",
      "n:  2\n",
      "D_p:  [[ 0.25  0.  ]\n",
      " [ 0.    0.5 ]]\n",
      "K_p:  [[ 8.]\n",
      " [ 4.]]\n",
      "R_p:  [[ 64.   8.]\n",
      " [  8.   8.]]\n",
      "e_p:  [[ 2.28571429]]\n"
     ]
    },
    {
     "data": {
      "image/png": "[encoded data removed]",
      "text/plain": [
       "<matplotlib.figure.Figure at 0xaf960c0c>"
      ]
     },
     "metadata": {},
     "output_type": "display_data"
    }
   ],
   "source": [
    "boundaryPlotting_LyapunovFunction(0.5)"
   ]
  },
  {
   "cell_type": "code",
   "execution_count": null,
   "metadata": {},
   "outputs": [],
   "source": []
  },
  {
   "cell_type": "code",
   "execution_count": null,
   "metadata": {},
   "outputs": [],
   "source": []
  }
 ],
 "metadata": {
  "kernelspec": {
   "display_name": "Python 2",
   "language": "python",
   "name": "python2"
  },
  "language_info": {
   "codemirror_mode": {
    "name": "ipython",
    "version": 2
   },
   "file_extension": ".py",
   "mimetype": "text/x-python",
   "name": "python",
   "nbconvert_exporter": "python",
   "pygments_lexer": "ipython2",
   "version": "2.7.12"
  }
 },
 "nbformat": 4,
 "nbformat_minor": 2
}
