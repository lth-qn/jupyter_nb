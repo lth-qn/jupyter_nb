{
 "cells": [
  {
   "cell_type": "code",
   "execution_count": 7,
   "metadata": {},
   "outputs": [
    {
     "data": {
      "image/png": "[encoded data removed]",
      "text/plain": [
       "<matplotlib.figure.Figure at 0x7f664d61db10>"
      ]
     },
     "metadata": {},
     "output_type": "display_data"
    }
   ],
   "source": [
    "# state-based simulation equation:\n",
    "# x_dot = A.x + B.u\n",
    "# y = C.x + D.u\n",
    "# e.g., u = -(k.T).x. u can be a non-linear \n",
    "\n",
    "import numpy as np\n",
    "import matplotlib.pyplot as plt\n",
    "k = np.matrix([[0],[1]])\n",
    "def con(y, s, x):\n",
    "    return -1 * (y - s)\n",
    "#print con(0, 0.5, 0)\n",
    "\n",
    "def closedLoop(y, s, x):\n",
    "    # fill-in K matrix here:\n",
    "    K\n",
    "    return -K*x\n",
    "#print con(0, 0.5, 0)\n",
    "\n",
    "\n",
    "def simulate(A, B, C, D, regulator_func, s, T, x0=0):\n",
    "    #intitialize y, u\n",
    "    y = np.zeros(len(T))    \n",
    "    u = np.zeros((len(T),np.size(x0,1)))    \n",
    "    if type(x0) is int:\n",
    "        xt = np.matrix([x0]*len(A)).T\n",
    "        print \"x0 = \\n{}\".format(xt)\n",
    "    else:\n",
    "        xt = x0\n",
    "    #print \"y.shape = \\n\",y.shape\n",
    "    #print \"len(T) = \\n\",len(T)\n",
    "    #print \"A.shape = \\n\",(A).shape\n",
    "    #print \"xt.shape = \\n\",(xt).shape\n",
    "    #print \"B.shape = \\n\",(B).shape\n",
    "    #print \"u.shape = \\n\",u.shape\n",
    "    #print \"s.shape = \\n\",s.shape\n",
    "    #print \"C.T.shape = \\n\",C.T.shape\n",
    "    #print \"D.shape = \\n\",D.shape\n",
    "    \n",
    "    for i, t in enumerate(T):\n",
    "        #print \"regulator_func = \\n\",(regulator_func(y[i], s[i],xt))\n",
    "        u[[i],:] = regulator_func(y[i], s[i],xt)\n",
    "        x_dot = A.dot(xt) + B.dot(u[[i],:])\n",
    "        #print \"x_dot = \\n\",x_dot\n",
    "        #print \"(C.T).dot(xt) = \\n\",((C.T).dot(xt)).shape\n",
    "        #print \" D.dot(u[[i],:]) = \\n\",(D.dot(u[[i],:])).shape\n",
    "        #print \"(C.T).dot(xt) + D.dot(u[[i],:]) = \\n\",((C.T).dot(xt) + D.dot(u[[i],:])).shape\n",
    "        y[[i]] = (C).dot(xt) + D.dot(u[[i],:])\n",
    "        #print \"y[[i]] = \\n\",y[[i]]\n",
    "        if i < len(T)-1:\n",
    "            xt = xt + x_dot*(T[i+1]-T[i])\n",
    "        #print \"y[[i]] = \\n\",y[[i]] \n",
    "    return y, u\n",
    " \n",
    " \n",
    "#A = np.matrix([[0, 1, 0],\n",
    "#               [-10, -1.167, 25],\n",
    "#               [0, 0, -0.8]]) # A: 3x3 matrix\n",
    "#B = np.matrix([[0], [0], [2.4]]) # e.g., B: 3x1 matrix\n",
    "#C = np.matrix([1, 0, 0]) # e.g., C: 3x1 matrix\n",
    "#D = np.matrix([[0]]) # e.g., D: 1x2 matrix\n",
    "\n",
    "A = np.matrix([[0., -10.],\n",
    "               [10., -16.6]])\n",
    "#A = np.matrix(np.zeros((A.shape)))\n",
    "#print \"A = \\n\",A\n",
    "B = np.matrix([[-10.], [0.]]) \n",
    "C = np.matrix([0., -1.])\n",
    "D = np.matrix([[0.]])\n",
    "\n",
    "T = np.arange(0, 0.9, 0.01) \n",
    "s = np.ones(len(T))\n",
    "#s = np.append(1, np.zeros(len(T)-1))\n",
    "x0 = np.matrix([[0.0], [0.0]])\n",
    "#x0 = np.matrix([[20], [10], [10]])\n",
    "\n",
    "# anonymous function for just outputing s directly (is this open loop then?)\n",
    "# yes <3\n",
    "inputSignal = lambda y,s,x: s\n",
    "regulator_func = inputSignal\n",
    "\n",
    "y, u = simulate(A, B, C, D, regulator_func, s, T, x0)\n",
    "\n",
    "plt.figure()\n",
    "plt.plot(T, y, 'r')\n",
    "plt.xlabel('T')\n",
    "plt.ylabel('y')\n",
    "plt.show()"
   ]
  },
  {
   "cell_type": "code",
   "execution_count": 5,
   "metadata": {},
   "outputs": [
    {
     "name": "stdout",
     "output_type": "stream",
     "text": [
      "tf_pt2.C [[  0. 100.]]\n",
      "Q.shape (2, 2)\n"
     ]
    },
    {
     "ename": "ControlSlycot",
     "evalue": "can't find slycot module 'sb02md' or 'sb02nt'",
     "output_type": "error",
     "traceback": [
      "\u001b[0;31m---------------------------------------------------------------------------\u001b[0m",
      "\u001b[0;31mControlSlycot\u001b[0m                             Traceback (most recent call last)",
      "\u001b[0;32m<ipython-input-5-e73ef87271d1>\u001b[0m in \u001b[0;36m<module>\u001b[0;34m()\u001b[0m\n\u001b[1;32m     23\u001b[0m \u001b[0;32mprint\u001b[0m \u001b[0;34m\"Q.shape\"\u001b[0m\u001b[0;34m,\u001b[0m \u001b[0mQ\u001b[0m\u001b[0;34m.\u001b[0m\u001b[0mshape\u001b[0m\u001b[0;34m\u001b[0m\u001b[0m\n\u001b[1;32m     24\u001b[0m \u001b[0mR\u001b[0m \u001b[0;34m=\u001b[0m \u001b[0mnumpy\u001b[0m\u001b[0;34m.\u001b[0m\u001b[0mdiag\u001b[0m\u001b[0;34m(\u001b[0m\u001b[0;34m[\u001b[0m\u001b[0;36m1\u001b[0m\u001b[0;34m,\u001b[0m \u001b[0;36m1\u001b[0m\u001b[0;34m]\u001b[0m\u001b[0;34m)\u001b[0m\u001b[0;34m;\u001b[0m\u001b[0;34m\u001b[0m\u001b[0m\n\u001b[0;32m---> 25\u001b[0;31m \u001b[0;34m(\u001b[0m\u001b[0mK\u001b[0m\u001b[0;34m,\u001b[0m \u001b[0mS\u001b[0m\u001b[0;34m,\u001b[0m \u001b[0mE\u001b[0m\u001b[0;34m)\u001b[0m \u001b[0;34m=\u001b[0m \u001b[0mcon\u001b[0m\u001b[0;34m.\u001b[0m\u001b[0mstatefbk\u001b[0m\u001b[0;34m.\u001b[0m\u001b[0mlqr\u001b[0m\u001b[0;34m(\u001b[0m\u001b[0mss\u001b[0m\u001b[0;34m.\u001b[0m\u001b[0mA\u001b[0m\u001b[0;34m,\u001b[0m\u001b[0mss\u001b[0m\u001b[0;34m.\u001b[0m\u001b[0mB\u001b[0m\u001b[0;34m,\u001b[0m\u001b[0mQ\u001b[0m\u001b[0;34m,\u001b[0m\u001b[0mR\u001b[0m\u001b[0;34m)\u001b[0m\u001b[0;34m\u001b[0m\u001b[0m\n\u001b[0m\u001b[1;32m     26\u001b[0m \u001b[0;32mprint\u001b[0m \u001b[0mss\u001b[0m\u001b[0;34m\u001b[0m\u001b[0m\n\u001b[1;32m     27\u001b[0m \u001b[0;34m\u001b[0m\u001b[0m\n",
      "\u001b[0;32m/usr/local/lib/python2.7/dist-packages/control/statefbk.pyc\u001b[0m in \u001b[0;36mlqr\u001b[0;34m(*args, **keywords)\u001b[0m\n\u001b[1;32m    189\u001b[0m         \u001b[0;32mfrom\u001b[0m \u001b[0mslycot\u001b[0m \u001b[0;32mimport\u001b[0m \u001b[0msb02mt\u001b[0m\u001b[0;34m\u001b[0m\u001b[0m\n\u001b[1;32m    190\u001b[0m     \u001b[0;32mexcept\u001b[0m \u001b[0mImportError\u001b[0m\u001b[0;34m:\u001b[0m\u001b[0;34m\u001b[0m\u001b[0m\n\u001b[0;32m--> 191\u001b[0;31m         \u001b[0;32mraise\u001b[0m \u001b[0mControlSlycot\u001b[0m\u001b[0;34m(\u001b[0m\u001b[0;34m\"can't find slycot module 'sb02md' or 'sb02nt'\"\u001b[0m\u001b[0;34m)\u001b[0m\u001b[0;34m\u001b[0m\u001b[0m\n\u001b[0m\u001b[1;32m    192\u001b[0m \u001b[0;34m\u001b[0m\u001b[0m\n\u001b[1;32m    193\u001b[0m     \u001b[0;31m#\u001b[0m\u001b[0;34m\u001b[0m\u001b[0;34m\u001b[0m\u001b[0m\n",
      "\u001b[0;31mControlSlycot\u001b[0m: can't find slycot module 'sb02md' or 'sb02nt'"
     ]
    }
   ],
   "source": [
    "import numpy\n",
    "import matplotlib.pyplot as plt\n",
    "import control as con\n",
    "\n",
    "# pt2 System\n",
    "K = 1\n",
    "d = 0.83\n",
    "T = .1\n",
    "delay = 0.246\n",
    "\n",
    "a0 = 1\n",
    "a1 = (2 * d * T) #16\n",
    "a2 = (T**2) #100\n",
    "b0 = K\n",
    "\n",
    "# Polynom\n",
    "tf_pt2 = con.matlab.tf(K, [a2, a1, a0])\n",
    "\n",
    "# Zustandsraum\n",
    "ss = con.matlab.tf2ss(tf_pt2)\n",
    "print \"tf_pt2.C\", ss.C\n",
    "Q = (numpy.matrix.getH(ss.C)).dot(ss.C)\n",
    "print \"Q.shape\", Q.shape\n",
    "R = numpy.diag([1, 1]);\n",
    "(K, S, E) = con.statefbk.lqr(ss.A,ss.B,Q,R)\n",
    "print ss\n",
    "\n",
    "CL = con.feedback(ss, 1);\n",
    "\n",
    "yout2, T2 = con.matlab.step(tf_pt2) # step open loop\n",
    "plt.plot(T2, yout2, 'r-', label='open')\n",
    "\n",
    "yout2, T2 = con.matlab.step(CL) # step closed loop\n",
    "plt.plot(T2, yout2, 'b-', label='closed')\n",
    "\n"
   ]
  },
  {
   "cell_type": "code",
   "execution_count": null,
   "metadata": {},
   "outputs": [],
   "source": []
  }
 ],
 "metadata": {
  "kernelspec": {
   "display_name": "Python 2",
   "language": "python",
   "name": "python2"
  },
  "language_info": {
   "codemirror_mode": {
    "name": "ipython",
    "version": 2
   },
   "file_extension": ".py",
   "mimetype": "text/x-python",
   "name": "python",
   "nbconvert_exporter": "python",
   "pygments_lexer": "ipython2",
   "version": "2.7.12"
  }
 },
 "nbformat": 4,
 "nbformat_minor": 2
}
